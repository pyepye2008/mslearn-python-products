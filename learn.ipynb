{
 "cells": [
  {
   "cell_type": "code",
   "execution_count": 7,
   "metadata": {},
   "outputs": [
    {
     "name": "stdout",
     "output_type": "stream",
     "text": [
      "xiaoming 18\n",
      "张先生 20\n",
      "何先生 20\n"
     ]
    }
   ],
   "source": [
    "#写的一个Josn的数据，用于测试\n",
    "students = [ \n",
    "   {\n",
    "     \"name\": \"xiaoming\",\n",
    "     \"age\": 18\n",
    "   },\n",
    "   {\n",
    "     \"name\": \"张先生\",\n",
    "     \"age\": 20\n",
    "   },\n",
    "   {\n",
    "     \"name\": \"何先生\",\n",
    "     \"age\": 20\n",
    "   },\n",
    "]\n",
    "\n",
    "for student in students:\n",
    "    print(student['name'], student['age'])"
   ]
  },
  {
   "cell_type": "code",
   "execution_count": 4,
   "metadata": {},
   "outputs": [
    {
     "name": "stdout",
     "output_type": "stream",
     "text": [
      "Hello World\n",
      "Hello1 World1\n",
      "Hello World\n",
      "Hello World\n",
      "Hello World\n"
     ]
    }
   ],
   "source": [
    "#字符串拼接的五种方式\n",
    "str1 = \"Hello\"\n",
    "str2 = \"World\"\n",
    "\n",
    "#使用 + 运算符：\n",
    "result = str1 + \" \" + str2\n",
    "print(result)  # 输出：Hello World\n",
    "\n",
    "#使用 join() 方法：通常用于将一个可迭代对象（如列表）中的字符串元素连接起来。\n",
    "str_list = [\"Hello1\", \"World1\"]\n",
    "result = \" \".join(str_list)\n",
    "print(result)  # 输出：Hello World\n",
    "\n",
    "#使用格式化字符串（f-strings）：在 Python 3.6 及以上版本可用\n",
    "result = f\"{str1} {str2}\"\n",
    "print(result)  # 输出：Hello World\n",
    "\n",
    "#使用 % 格式化操作符（较老的方式）：\n",
    "result = \"%s %s\" % (str1, str2)\n",
    "print(result)  # 输出：Hello World\n",
    "\n",
    "#使用 str.format() 方法：\n",
    "str1 = \"Hello\"\n",
    "str2 = \"World\"\n",
    "result = \"{} {}\".format(str1, str2)\n",
    "print(result)  # 输出：Hello World\n",
    "\n",
    "\n"
   ]
  }
 ],
 "metadata": {
  "kernelspec": {
   "display_name": ".venv",
   "language": "python",
   "name": "python3"
  },
  "language_info": {
   "codemirror_mode": {
    "name": "ipython",
    "version": 3
   },
   "file_extension": ".py",
   "mimetype": "text/x-python",
   "name": "python",
   "nbconvert_exporter": "python",
   "pygments_lexer": "ipython3",
   "version": "3.11.3"
  }
 },
 "nbformat": 4,
 "nbformat_minor": 2
}
