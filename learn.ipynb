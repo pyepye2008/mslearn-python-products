{
 "cells": [
  {
   "cell_type": "code",
   "execution_count": 7,
   "metadata": {},
   "outputs": [
    {
     "name": "stdout",
     "output_type": "stream",
     "text": [
      "xiaoming 18\n",
      "张先生 20\n",
      "何先生 20\n"
     ]
    }
   ],
   "source": [
    "#写的一个Josn的数据，用于测试\n",
    "students = [ \n",
    "   {\n",
    "     \"name\": \"xiaoming\",\n",
    "     \"age\": 18\n",
    "   },\n",
    "   {\n",
    "     \"name\": \"张先生\",\n",
    "     \"age\": 20\n",
    "   },\n",
    "   {\n",
    "     \"name\": \"何先生\",\n",
    "     \"age\": 20\n",
    "   },\n",
    "]\n",
    "\n",
    "for student in students:\n",
    "    print(student['name'], student['age'])"
   ]
  }
 ],
 "metadata": {
  "kernelspec": {
   "display_name": ".venv",
   "language": "python",
   "name": "python3"
  },
  "language_info": {
   "codemirror_mode": {
    "name": "ipython",
    "version": 3
   },
   "file_extension": ".py",
   "mimetype": "text/x-python",
   "name": "python",
   "nbconvert_exporter": "python",
   "pygments_lexer": "ipython3",
   "version": "3.11.3"
  }
 },
 "nbformat": 4,
 "nbformat_minor": 2
}
